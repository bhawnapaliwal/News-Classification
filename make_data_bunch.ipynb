{
 "cells": [
  {
   "cell_type": "code",
   "execution_count": 1,
   "metadata": {},
   "outputs": [
    {
     "name": "stdout",
     "output_type": "stream",
     "text": [
      " abstract.txt                  \u001b[0m\u001b[01;31mNLP.zip\u001b[0m\r\n",
      " \u001b[01;34mcompetitive\u001b[0m/                  \u001b[01;34mnode_modules\u001b[0m/\r\n",
      " \u001b[01;34mcs202\u001b[0m/                        optimal_leaf_order.pdf\r\n",
      " \u001b[01;34mCV\u001b[0m/                           \u001b[01;34mPictures\u001b[0m/\r\n",
      "\u001b[01;34m'CV (1)'\u001b[0m/                      \u001b[01;34mPublic\u001b[0m/\r\n",
      " \u001b[01;34mCV_assignment\u001b[0m/                rec.txt\r\n",
      " CV_assignment.ipynb           \u001b[01;31mreorder.js-0.0.8.zip\u001b[0m\r\n",
      " \u001b[01;31mCV.zip\u001b[0m                        \u001b[01;31mreorder.js-1.0.6.zip\u001b[0m\r\n",
      " \u001b[01;34md3\u001b[0m/                           \u001b[01;34mreorder.js-master\u001b[0m/\r\n",
      " \u001b[01;31md3.zip\u001b[0m                        \u001b[01;31mreorder.js-master.zip\u001b[0m\r\n",
      " \u001b[01;34mDesktop\u001b[0m/                      \u001b[01;34mriscv_codes\u001b[0m/\r\n",
      " \u001b[01;34mDocuments\u001b[0m/                    sample1.ipynb\r\n",
      " \u001b[01;34mDownloads\u001b[0m/                    sample.ipynb\r\n",
      " \u001b[01;34meclipse\u001b[0m/                      TA-Bill.pdf\r\n",
      " \u001b[01;34meclipse-workspace\u001b[0m/            \u001b[01;34mtask1_204\u001b[0m/\r\n",
      " examples.desktop              \u001b[01;34mTemplates\u001b[0m/\r\n",
      "'Final-week report-2019.pdf'   tiny-queue.js\r\n",
      " for_js1.ipynb                 \u001b[01;34mtry_cv\u001b[0m/\r\n",
      " for_js.ipynb                  try.html\r\n",
      " \u001b[01;34mhere\u001b[0m/                         Untitled1.ipynb\r\n",
      " make_folders_nlp.ipynb        Untitled2.ipynb\r\n",
      " \u001b[01;34mmatrix_vis\u001b[0m/                   Untitled3.ipynb\r\n",
      " Mean_pooling.ipynb            Untitled4.ipynb\r\n",
      " \u001b[01;34mMusic\u001b[0m/                        Untitled5.ipynb\r\n",
      " MyFile.txt                    Untitled8.ipynb\r\n",
      " \u001b[01;34mNLP1\u001b[0m/                        'Untitled Document 1.java'\r\n",
      " \u001b[01;31mNLP1.zip\u001b[0m                      Untitled.ipynb\r\n",
      " \u001b[01;34mNLP_f\u001b[0m/                        \u001b[01;34mVideos\u001b[0m/\r\n"
     ]
    }
   ],
   "source": [
    "ls"
   ]
  },
  {
   "cell_type": "code",
   "execution_count": 3,
   "metadata": {},
   "outputs": [
    {
     "name": "stdout",
     "output_type": "stream",
     "text": [
      "/home/bhawna/NLP_f\n"
     ]
    }
   ],
   "source": [
    "cd NLP_f"
   ]
  },
  {
   "cell_type": "code",
   "execution_count": 4,
   "metadata": {},
   "outputs": [
    {
     "name": "stdout",
     "output_type": "stream",
     "text": [
      "data_lm_saved  news_test.json   samplesubmissionNLP.csv\r\n",
      "\u001b[0m\u001b[01;34mmodels\u001b[0m/        news_train.json  \u001b[01;34mtrain\u001b[0m/\r\n"
     ]
    }
   ],
   "source": [
    "ls"
   ]
  },
  {
   "cell_type": "code",
   "execution_count": 4,
   "metadata": {},
   "outputs": [],
   "source": [
    "import json\n",
    "import os\n",
    "f = open(\"news_train.json\", \"r\")\n",
    "i=0\n",
    "os.mkdir(\"train\")\n",
    "for x in f:\n",
    "    i=i+1\n",
    "    if i%1000==0:\n",
    "        print('...')\n",
    "    data = json.loads(x)\n",
    "    path=\"train/\"\n",
    "    try:\n",
    "        os.mkdir(path+data[\"category\"])\n",
    "    except OSError:\n",
    "        f1 = open(path+data[\"category\"]+\"/text_file\"+str(i)+\".txt\", \"a\")\n",
    "        f1.write(data[\"headline\"]+data[\"short_description\"])\n",
    "        i = i+1\n",
    "        f1.close()\n",
    "    else:  \n",
    "        f1 = open(path+data[\"category\"]+\"/text_file\"+str(i)+\".txt\",\"w\")\n",
    "        f1.write(data[\"headline\"]+data[\"short_description\"])\n",
    "        i=i+1\n",
    "        f1.close()"
   ]
  },
  {
   "cell_type": "code",
   "execution_count": 6,
   "metadata": {},
   "outputs": [],
   "source": [
    "%reload_ext autoreload\n",
    "%autoreload 2\n",
    "%matplotlib inline\n",
    "from fastai.text import *"
   ]
  },
  {
   "cell_type": "code",
   "execution_count": 8,
   "metadata": {},
   "outputs": [],
   "source": [
    "data_lm = load_data('.',file='data_lm_saved')"
   ]
  },
  {
   "cell_type": "code",
   "execution_count": 9,
   "metadata": {},
   "outputs": [
    {
     "name": "stderr",
     "output_type": "stream",
     "text": [
      "/home/bhawna/.local/lib/python3.6/site-packages/fastai/data_block.py:525: UserWarning: You are labelling your items with CategoryList.\n",
      "Your valid set contained the following unknown labels, the corresponding items have been discarded.\n",
      "train\n",
      "  if getattr(ds, 'warn', False): warn(ds.warn)\n"
     ]
    }
   ],
   "source": [
    "data_clas = (TextList.from_folder('.', vocab=data_lm.vocab)\n",
    "             #grab all the text files in path\n",
    "             .split_by_rand_pct(0.1)\n",
    "             #split by train and valid folder (that only keeps 'train' and 'test' so no need to filter)\n",
    "             .label_from_folder()\n",
    "             #label them all with their folders\n",
    "             .databunch(bs=bs))\n"
   ]
  },
  {
   "cell_type": "code",
   "execution_count": 10,
   "metadata": {},
   "outputs": [],
   "source": [
    "data_clas.save('data_clas')"
   ]
  },
  {
   "cell_type": "code",
   "execution_count": null,
   "metadata": {},
   "outputs": [],
   "source": []
  }
 ],
 "metadata": {
  "kernelspec": {
   "display_name": "Python 3",
   "language": "python",
   "name": "python3"
  },
  "language_info": {
   "codemirror_mode": {
    "name": "ipython",
    "version": 3
   },
   "file_extension": ".py",
   "mimetype": "text/x-python",
   "name": "python",
   "nbconvert_exporter": "python",
   "pygments_lexer": "ipython3",
   "version": "3.6.7"
  }
 },
 "nbformat": 4,
 "nbformat_minor": 2
}
